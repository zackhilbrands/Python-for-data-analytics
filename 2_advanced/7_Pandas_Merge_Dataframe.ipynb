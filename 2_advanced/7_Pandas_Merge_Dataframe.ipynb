{
 "cells": [
  {
   "cell_type": "code",
   "execution_count": 3,
   "id": "81389513",
   "metadata": {},
   "outputs": [],
   "source": [
    "import pandas as pd\n",
    "from datasets import load_dataset\n",
    "import matplotlib.pyplot as plt  \n",
    "\n",
    "# Loading Data\n",
    "dataset = load_dataset('lukebarousse/data_jobs')\n",
    "df = dataset['train'].to_pandas()\n",
    "\n",
    "# Data Cleanup\n",
    "df['job_posted_date'] = pd.to_datetime(df['job_posted_date'])"
   ]
  },
  {
   "cell_type": "code",
   "execution_count": 4,
   "id": "a1f4ce61",
   "metadata": {},
   "outputs": [],
   "source": [
    "job_data = {\n",
    "    'job_id': [1, 2, 3, 4, 5],\n",
    "    'job_title': ['Data Scientist', 'Software Engineer', 'Product Manager', 'Marketing Director', 'HR Manager'],\n",
    "    'company_name': ['Google', 'Microsoft', 'Apple', 'Nike', 'Starbucks'],\n",
    "    'job_location': ['Mountain View, CA', 'Redmond, WA', 'Cupertino, CA', 'Beaverton, OR', 'Seattle, WA']\n",
    "}\n",
    "\n",
    "company_data = {\n",
    "    'company_name': ['Google', 'Microsoft', 'Apple', 'Nike', 'Starbucks'],\n",
    "    'industry': ['Technology', 'Technology', 'Technology', 'Apparel', 'Food & Beverage'],\n",
    "    'company_size': ['100,000+', '100,000+', '100,000+', '75,000+', '346,000+']\n",
    "}\n",
    "\n",
    "\n",
    "df_jobs = pd.DataFrame(job_data)\n",
    "df_companies = pd.DataFrame(company_data)"
   ]
  },
  {
   "cell_type": "code",
   "execution_count": 5,
   "id": "a56f2f1a",
   "metadata": {},
   "outputs": [
    {
     "data": {
      "text/plain": [
       "dict"
      ]
     },
     "execution_count": 5,
     "metadata": {},
     "output_type": "execute_result"
    }
   ],
   "source": [
    "type(job_data)"
   ]
  },
  {
   "cell_type": "code",
   "execution_count": 6,
   "id": "5963fa28",
   "metadata": {},
   "outputs": [
    {
     "data": {
      "text/html": [
       "<div>\n",
       "<style scoped>\n",
       "    .dataframe tbody tr th:only-of-type {\n",
       "        vertical-align: middle;\n",
       "    }\n",
       "\n",
       "    .dataframe tbody tr th {\n",
       "        vertical-align: top;\n",
       "    }\n",
       "\n",
       "    .dataframe thead th {\n",
       "        text-align: right;\n",
       "    }\n",
       "</style>\n",
       "<table border=\"1\" class=\"dataframe\">\n",
       "  <thead>\n",
       "    <tr style=\"text-align: right;\">\n",
       "      <th></th>\n",
       "      <th>job_id</th>\n",
       "      <th>job_title</th>\n",
       "      <th>company_name</th>\n",
       "      <th>job_location</th>\n",
       "      <th>industry</th>\n",
       "      <th>company_size</th>\n",
       "    </tr>\n",
       "  </thead>\n",
       "  <tbody>\n",
       "    <tr>\n",
       "      <th>0</th>\n",
       "      <td>1</td>\n",
       "      <td>Data Scientist</td>\n",
       "      <td>Google</td>\n",
       "      <td>Mountain View, CA</td>\n",
       "      <td>Technology</td>\n",
       "      <td>100,000+</td>\n",
       "    </tr>\n",
       "    <tr>\n",
       "      <th>1</th>\n",
       "      <td>2</td>\n",
       "      <td>Software Engineer</td>\n",
       "      <td>Microsoft</td>\n",
       "      <td>Redmond, WA</td>\n",
       "      <td>Technology</td>\n",
       "      <td>100,000+</td>\n",
       "    </tr>\n",
       "    <tr>\n",
       "      <th>2</th>\n",
       "      <td>3</td>\n",
       "      <td>Product Manager</td>\n",
       "      <td>Apple</td>\n",
       "      <td>Cupertino, CA</td>\n",
       "      <td>Technology</td>\n",
       "      <td>100,000+</td>\n",
       "    </tr>\n",
       "    <tr>\n",
       "      <th>3</th>\n",
       "      <td>4</td>\n",
       "      <td>Marketing Director</td>\n",
       "      <td>Nike</td>\n",
       "      <td>Beaverton, OR</td>\n",
       "      <td>Apparel</td>\n",
       "      <td>75,000+</td>\n",
       "    </tr>\n",
       "    <tr>\n",
       "      <th>4</th>\n",
       "      <td>5</td>\n",
       "      <td>HR Manager</td>\n",
       "      <td>Starbucks</td>\n",
       "      <td>Seattle, WA</td>\n",
       "      <td>Food &amp; Beverage</td>\n",
       "      <td>346,000+</td>\n",
       "    </tr>\n",
       "  </tbody>\n",
       "</table>\n",
       "</div>"
      ],
      "text/plain": [
       "   job_id           job_title company_name       job_location  \\\n",
       "0       1      Data Scientist       Google  Mountain View, CA   \n",
       "1       2   Software Engineer    Microsoft        Redmond, WA   \n",
       "2       3     Product Manager        Apple      Cupertino, CA   \n",
       "3       4  Marketing Director         Nike      Beaverton, OR   \n",
       "4       5          HR Manager    Starbucks        Seattle, WA   \n",
       "\n",
       "          industry company_size  \n",
       "0       Technology     100,000+  \n",
       "1       Technology     100,000+  \n",
       "2       Technology     100,000+  \n",
       "3          Apparel      75,000+  \n",
       "4  Food & Beverage     346,000+  "
      ]
     },
     "execution_count": 6,
     "metadata": {},
     "output_type": "execute_result"
    }
   ],
   "source": [
    "df_jobs.merge(df_companies, on='company_name')"
   ]
  },
  {
   "cell_type": "code",
   "execution_count": 7,
   "id": "613dd41b",
   "metadata": {},
   "outputs": [],
   "source": [
    "df_US = df[df['job_country'] == 'United States'].copy()\n",
    "\n",
    "df_US['job_posted_month'] = df_US['job_posted_date'].dt.strftime('%B')\n",
    "\n",
    "df_US_pivot = df_US.pivot_table(index='job_posted_month', columns='job_title_short', aggfunc='size')\n",
    "\n",
    "df_US_pivot.reset_index(inplace=True)\n",
    "df_US_pivot['month_no'] =pd.to_datetime(df_US_pivot['job_posted_month'], format='%B').dt.month\n",
    "\n",
    "df_US_pivot.sort_values('month_no', inplace=True)\n",
    "df_US_pivot.set_index('job_posted_month', inplace=True)\n",
    "df_US_pivot.drop(columns='month_no', inplace=True)"
   ]
  },
  {
   "cell_type": "code",
   "execution_count": 8,
   "id": "fe536bf4",
   "metadata": {},
   "outputs": [
    {
     "data": {
      "text/html": [
       "<div>\n",
       "<style scoped>\n",
       "    .dataframe tbody tr th:only-of-type {\n",
       "        vertical-align: middle;\n",
       "    }\n",
       "\n",
       "    .dataframe tbody tr th {\n",
       "        vertical-align: top;\n",
       "    }\n",
       "\n",
       "    .dataframe thead th {\n",
       "        text-align: right;\n",
       "    }\n",
       "</style>\n",
       "<table border=\"1\" class=\"dataframe\">\n",
       "  <thead>\n",
       "    <tr style=\"text-align: right;\">\n",
       "      <th></th>\n",
       "      <th>Front-End Developer</th>\n",
       "      <th>Back-End Developer</th>\n",
       "      <th>Full-Stack Developer</th>\n",
       "      <th>UI/UX Designer</th>\n",
       "    </tr>\n",
       "    <tr>\n",
       "      <th>job_posted_month</th>\n",
       "      <th></th>\n",
       "      <th></th>\n",
       "      <th></th>\n",
       "      <th></th>\n",
       "    </tr>\n",
       "  </thead>\n",
       "  <tbody>\n",
       "    <tr>\n",
       "      <th>January</th>\n",
       "      <td>13619</td>\n",
       "      <td>9827</td>\n",
       "      <td>5108</td>\n",
       "      <td>4348</td>\n",
       "    </tr>\n",
       "    <tr>\n",
       "      <th>February</th>\n",
       "      <td>11456</td>\n",
       "      <td>9116</td>\n",
       "      <td>7298</td>\n",
       "      <td>4284</td>\n",
       "    </tr>\n",
       "    <tr>\n",
       "      <th>March</th>\n",
       "      <td>11102</td>\n",
       "      <td>8178</td>\n",
       "      <td>5814</td>\n",
       "      <td>4159</td>\n",
       "    </tr>\n",
       "    <tr>\n",
       "      <th>April</th>\n",
       "      <td>14037</td>\n",
       "      <td>9209</td>\n",
       "      <td>7232</td>\n",
       "      <td>4220</td>\n",
       "    </tr>\n",
       "    <tr>\n",
       "      <th>May</th>\n",
       "      <td>12126</td>\n",
       "      <td>8864</td>\n",
       "      <td>6718</td>\n",
       "      <td>4980</td>\n",
       "    </tr>\n",
       "    <tr>\n",
       "      <th>June</th>\n",
       "      <td>12003</td>\n",
       "      <td>8065</td>\n",
       "      <td>5902</td>\n",
       "      <td>4781</td>\n",
       "    </tr>\n",
       "    <tr>\n",
       "      <th>July</th>\n",
       "      <td>11914</td>\n",
       "      <td>8061</td>\n",
       "      <td>6839</td>\n",
       "      <td>4344</td>\n",
       "    </tr>\n",
       "    <tr>\n",
       "      <th>August</th>\n",
       "      <td>11571</td>\n",
       "      <td>8191</td>\n",
       "      <td>7413</td>\n",
       "      <td>4104</td>\n",
       "    </tr>\n",
       "    <tr>\n",
       "      <th>September</th>\n",
       "      <td>14016</td>\n",
       "      <td>8447</td>\n",
       "      <td>6139</td>\n",
       "      <td>4094</td>\n",
       "    </tr>\n",
       "    <tr>\n",
       "      <th>October</th>\n",
       "      <td>11419</td>\n",
       "      <td>8476</td>\n",
       "      <td>5026</td>\n",
       "      <td>4389</td>\n",
       "    </tr>\n",
       "    <tr>\n",
       "      <th>November</th>\n",
       "      <td>13771</td>\n",
       "      <td>9034</td>\n",
       "      <td>5653</td>\n",
       "      <td>4099</td>\n",
       "    </tr>\n",
       "    <tr>\n",
       "      <th>December</th>\n",
       "      <td>14033</td>\n",
       "      <td>9232</td>\n",
       "      <td>6731</td>\n",
       "      <td>4367</td>\n",
       "    </tr>\n",
       "  </tbody>\n",
       "</table>\n",
       "</div>"
      ],
      "text/plain": [
       "                  Front-End Developer  Back-End Developer  \\\n",
       "job_posted_month                                            \n",
       "January                         13619                9827   \n",
       "February                        11456                9116   \n",
       "March                           11102                8178   \n",
       "April                           14037                9209   \n",
       "May                             12126                8864   \n",
       "June                            12003                8065   \n",
       "July                            11914                8061   \n",
       "August                          11571                8191   \n",
       "September                       14016                8447   \n",
       "October                         11419                8476   \n",
       "November                        13771                9034   \n",
       "December                        14033                9232   \n",
       "\n",
       "                  Full-Stack Developer  UI/UX Designer  \n",
       "job_posted_month                                        \n",
       "January                           5108            4348  \n",
       "February                          7298            4284  \n",
       "March                             5814            4159  \n",
       "April                             7232            4220  \n",
       "May                               6718            4980  \n",
       "June                              5902            4781  \n",
       "July                              6839            4344  \n",
       "August                            7413            4104  \n",
       "September                         6139            4094  \n",
       "October                           5026            4389  \n",
       "November                          5653            4099  \n",
       "December                          6731            4367  "
      ]
     },
     "execution_count": 8,
     "metadata": {},
     "output_type": "execute_result"
    }
   ],
   "source": [
    "df_US_software_pivot = pd.read_csv('https://lukeb.co/software_csv', index_col='job_posted_month')\n",
    "\n",
    "df_US_software_pivot"
   ]
  },
  {
   "cell_type": "code",
   "execution_count": 9,
   "id": "55c2746c",
   "metadata": {},
   "outputs": [],
   "source": [
    "df_US_merged = df_US_pivot.merge(df_US_software_pivot, on='job_posted_month')"
   ]
  },
  {
   "cell_type": "code",
   "execution_count": 17,
   "id": "8aa3f6dc",
   "metadata": {},
   "outputs": [
    {
     "data": {
      "text/plain": [
       "['Front-End Developer',\n",
       " 'Back-End Developer',\n",
       " 'Full-Stack Developer',\n",
       " 'Data Analyst',\n",
       " 'Data Scientist']"
      ]
     },
     "execution_count": 17,
     "metadata": {},
     "output_type": "execute_result"
    }
   ],
   "source": [
    "top_5 = (\n",
    "    df_US_merged\n",
    "    .sum()\n",
    "    .sort_values(ascending=False)\n",
    "    .head()\n",
    "    .index\n",
    "    .to_list()  \n",
    ")\n",
    "\n",
    "top_5"
   ]
  },
  {
   "cell_type": "code",
   "execution_count": 22,
   "id": "3103df37",
   "metadata": {},
   "outputs": [
    {
     "data": {
      "image/png": "[encoded data removed]",
      "text/plain": [
       "<Figure size 640x480 with 1 Axes>"
      ]
     },
     "metadata": {},
     "output_type": "display_data"
    }
   ],
   "source": [
    "df_US_merged[top_5].plot(kind='line')\n",
    "plt.title('Monthly Job Postings for Top Tech Jobs in the US')\n",
    "plt.xlabel('2023')\n",
    "plt.ylabel('Job Count')\n",
    "plt.ylim(0, 20000)\n",
    "plt.legend()\n",
    "plt.show()"
   ]
  },
  {
   "cell_type": "code",
   "execution_count": null,
   "id": "ca34972f",
   "metadata": {},
   "outputs": [],
   "source": []
  }
 ],
 "metadata": {
  "kernelspec": {
   "display_name": "Python_Data_Project",
   "language": "python",
   "name": "python3"
  },
  "language_info": {
   "codemirror_mode": {
    "name": "ipython",
    "version": 3
   },
   "file_extension": ".py",
   "mimetype": "text/x-python",
   "name": "python",
   "nbconvert_exporter": "python",
   "pygments_lexer": "ipython3",
   "version": "3.13.5"
  }
 },
 "nbformat": 4,
 "nbformat_minor": 5
}
